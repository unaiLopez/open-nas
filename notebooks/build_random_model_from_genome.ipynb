{
 "cells": [
  {
   "cell_type": "code",
   "execution_count": 36,
   "id": "2ed8ed5d",
   "metadata": {},
   "outputs": [],
   "source": [
    "import random\n",
    "from typing import Dict, Any"
   ]
  },
  {
   "cell_type": "code",
   "execution_count": 37,
   "id": "fb755c45",
   "metadata": {},
   "outputs": [],
   "source": [
    "CONV_BLOCKS_RANGE = (1, 4)\n",
    "CONV_LAYERS_PER_CONV_BLOCK_RANGE = (1, 3)\n",
    "LINEAR_BLOCKS_RANGE = (1, 2)\n",
    "LINEAR_LAYERS_PER_LINEAR_BLOCK_RANGE = (1, 2)\n",
    "CONV_OUTPUT_CHANNELS = [4, 8, 16, 32, 64, 128, 256, 512]\n",
    "CONV_KERNEL_SIZES = [1, 2, 3, 4, 5, 6]\n",
    "POOL_KERNEL_SIZES = [1, 2, 3]\n",
    "STRIDES = [1, 1, 2]\n",
    "PADDINGS = [0, 1, 2]\n",
    "ACTIVATIONS = [\"relu\", \"leaky_relu\", \"gelu\", \"tanh\", \"sigmoid\", None]\n",
    "POOLINGS = [\"max\", \"avg\", None]\n",
    "DROPOUT_PROBS = [0.0, 0.05, 0.1, 0.15, 0.2, 0.25]\n",
    "LINEAR_UNITS = [32, 64, 128, 256, 512]\n",
    "TRANSITIONS_OPTIONS = [\"flatten\", \"global_avg_pool\", \"global_max_pool\"]\n",
    "\n",
    "def create_random_genome() -> Dict[str, Any]:\n",
    "    genome = {\n",
    "        \"conv_blocks\": [],\n",
    "        \"transition_block\": [],\n",
    "        \"linear_blocks\": []\n",
    "    }\n",
    "\n",
    "    NUM_CONV_BLOCKS = random.choice(range(CONV_BLOCKS_RANGE[0], CONV_BLOCKS_RANGE[1] + 1))\n",
    "    for _ in range(NUM_CONV_BLOCKS):\n",
    "        conv_layers_for_block = random.choice(range(CONV_LAYERS_PER_CONV_BLOCK_RANGE[0], CONV_LAYERS_PER_CONV_BLOCK_RANGE[1] + 1))\n",
    "        for _ in range(conv_layers_for_block):\n",
    "            conv_layer = {\n",
    "                \"filters\": random.choice(CONV_OUTPUT_CHANNELS),\n",
    "                \"kernel_size\": random.choice(CONV_KERNEL_SIZES),\n",
    "                \"stride\": random.choice(STRIDES),\n",
    "                \"padding\": random.choice(PADDINGS),\n",
    "                \"batch_norm\": random.choice([True, False]),\n",
    "                \"activation\": random.choice(ACTIVATIONS),\n",
    "                \"dropout\": random.choice(DROPOUT_PROBS)\n",
    "            } \n",
    "            pooling_type = random.choice(POOLINGS)\n",
    "            if pooling_type is None:\n",
    "                conv_layer.update(\n",
    "                    {\n",
    "                        \"pool\": {}\n",
    "                    }\n",
    "                )\n",
    "            else:\n",
    "                conv_layer.update({\n",
    "                    \"pool\": {\n",
    "                        \"type\": pooling_type,\n",
    "                        \"kernel_size\": random.choice(POOL_KERNEL_SIZES),\n",
    "                        \"strides\": random.choice(STRIDES)\n",
    "                    }\n",
    "                })\n",
    "            genome[\"conv_blocks\"].append(conv_layer)\n",
    "        \n",
    "        genome[\"transition_block\"] = random.choice(TRANSITIONS_OPTIONS)\n",
    "\n",
    "    NUM_LINEAR_BLOCKS = random.choice(range(LINEAR_BLOCKS_RANGE[0], LINEAR_BLOCKS_RANGE[1] + 1))\n",
    "    for _ in range(NUM_LINEAR_BLOCKS):\n",
    "        linear_layer = {\n",
    "            \"units\": random.choice(LINEAR_UNITS),\n",
    "            \"norm\": random.choice([True, False]),\n",
    "            \"activation\": random.choice(ACTIVATIONS),\n",
    "            \"dropout\": random.choice(DROPOUT_PROBS)\n",
    "        }\n",
    "        genome[\"linear_blocks\"].append(linear_layer)\n",
    "    \n",
    "    return genome"
   ]
  },
  {
   "cell_type": "code",
   "execution_count": 38,
   "id": "802438d1",
   "metadata": {},
   "outputs": [
    {
     "data": {
      "text/plain": [
       "{'conv_blocks': [{'filters': 16,\n",
       "   'kernel_size': 2,\n",
       "   'stride': 1,\n",
       "   'padding': 0,\n",
       "   'batch_norm': False,\n",
       "   'activation': 'sigmoid',\n",
       "   'dropout': 0.15,\n",
       "   'pool': {}}],\n",
       " 'transition_block': 'global_avg_pool',\n",
       " 'linear_blocks': [{'units': 512,\n",
       "   'norm': False,\n",
       "   'activation': 'sigmoid',\n",
       "   'dropout': 0.1},\n",
       "  {'units': 32, 'norm': True, 'activation': 'sigmoid', 'dropout': 0.15}]}"
      ]
     },
     "execution_count": 38,
     "metadata": {},
     "output_type": "execute_result"
    }
   ],
   "source": [
    "create_random_genome()"
   ]
  },
  {
   "cell_type": "code",
   "execution_count": 44,
   "id": "2437f7bc",
   "metadata": {},
   "outputs": [],
   "source": [
    "import torch\n",
    "import torch.nn as nn\n",
    "from typing import Dict, Optional, Union\n",
    "\n",
    "# Mappings para activaciones y pooling\n",
    "def get_activation(name: Optional[str]) -> nn.Module:\n",
    "    return {\n",
    "        \"relu\": nn.ReLU(),\n",
    "        \"leaky_relu\": nn.LeakyReLU(),\n",
    "        \"gelu\": nn.GELU(),\n",
    "        \"tanh\": nn.Tanh(),\n",
    "        \"sigmoid\": nn.Sigmoid()\n",
    "    }[name]\n",
    "\n",
    "def get_pooling(pool: Dict[str, Union[str, int]]) -> nn.Module:\n",
    "    pool_type = pool[\"type\"]\n",
    "    kernel_size = pool[\"kernel_size\"]\n",
    "    strides = pool[\"strides\"]\n",
    "    if pool_type == \"max\":\n",
    "        return nn.MaxPool2d(kernel_size=kernel_size, stride=strides)\n",
    "    elif pool_type == \"avg\":\n",
    "        return nn.AvgPool2d(kernel_size=kernel_size, stride=strides)\n",
    "\n",
    "class GenomeNet(nn.Module):\n",
    "    def __init__(self, genome: Dict[str, Any], input_channels: int, num_classes: int):\n",
    "        super().__init__()\n",
    "\n",
    "        self.genome = genome\n",
    "        self.input_channels = input_channels\n",
    "        self.num_classes = num_classes\n",
    "        self.conv = self._build_conv_layers()\n",
    "        self.transition = self._build_transition()\n",
    "        self.linear = None\n",
    "\n",
    "    def _build_conv_layers(self) -> nn.Sequential:\n",
    "        layers = []\n",
    "        in_ch = self.input_channels\n",
    "        for cfg in self.genome[\"conv_blocks\"]:\n",
    "            layers.append(nn.Conv2d(\n",
    "                in_channels=in_ch,\n",
    "                out_channels=cfg[\"filters\"],\n",
    "                kernel_size=cfg[\"kernel_size\"],\n",
    "                stride=cfg[\"stride\"],\n",
    "                padding=cfg[\"padding\"]\n",
    "            ))\n",
    "            if cfg[\"batch_norm\"]:\n",
    "                layers.append(nn.BatchNorm2d(cfg[\"filters\"]))\n",
    "            if cfg[\"activation\"] != None:\n",
    "                layers.append(get_activation(cfg[\"activation\"]))\n",
    "            if cfg[\"pool\"] != {}:\n",
    "                layers.append(get_pooling(cfg[\"pool\"]))\n",
    "            if cfg.get(\"dropout\", 0.0) > 0:\n",
    "                layers.append(nn.Dropout2d(cfg[\"dropout\"]))\n",
    "            in_ch = cfg[\"filters\"]\n",
    "        return nn.Sequential(*layers)\n",
    "\n",
    "    def _build_transition(self) -> nn.Module:\n",
    "        transition = self.genome[\"transition_block\"]\n",
    "        if transition == \"flatten\":\n",
    "            return nn.Flatten()\n",
    "        elif transition == \"global_avg_pool\":\n",
    "            return nn.AdaptiveAvgPool2d((1, 1))\n",
    "        elif transition == \"global_max_pool\":\n",
    "            return nn.AdaptiveMaxPool2d((1, 1))\n",
    "\n",
    "    def _build_linear_layers(self, input_dim: int) -> nn.Sequential:\n",
    "        layers = []\n",
    "        in_f = input_dim\n",
    "        for cfg in self.genome[\"linear_blocks\"]:\n",
    "            layers.append(nn.Linear(in_f, cfg[\"units\"]))\n",
    "            if cfg[\"norm\"]:\n",
    "                layers.append(nn.LayerNorm(cfg[\"units\"]))\n",
    "            if cfg[\"activation\"] != None:\n",
    "                layers.append(get_activation(cfg[\"activation\"]))\n",
    "            if cfg.get(\"dropout\", 0.0) > 0:\n",
    "                layers.append(nn.Dropout(cfg[\"dropout\"]))\n",
    "            in_f = cfg[\"units\"]\n",
    "        layers.append(nn.Linear(in_f, self.num_classes))\n",
    "        return nn.Sequential(*layers)\n",
    "\n",
    "    def forward(self, x: torch.Tensor) -> torch.Tensor:\n",
    "        x = self.conv(x)\n",
    "        x = self.transition(x)\n",
    "\n",
    "        if isinstance(self.transition, (nn.AdaptiveAvgPool2d, nn.AdaptiveMaxPool2d)):\n",
    "            x = torch.flatten(x, 1)\n",
    "\n",
    "        if self.linear is None:\n",
    "            self.linear = self._build_linear_layers(x.shape[1])\n",
    "        x = self.linear(x)\n",
    "        return x\n"
   ]
  },
  {
   "cell_type": "code",
   "execution_count": 46,
   "id": "62e92c44",
   "metadata": {},
   "outputs": [],
   "source": [
    "x = torch.randn(1, 3, 64, 64) # Batch size de 2\n",
    "model = GenomeNet(create_random_genome(), input_channels=x.shape[1], num_classes=10)\n",
    "model.eval()\n",
    "out = model(x)"
   ]
  },
  {
   "cell_type": "code",
   "execution_count": 47,
   "id": "37225b61",
   "metadata": {},
   "outputs": [
    {
     "data": {
      "text/plain": [
       "GenomeNet(\n",
       "  (conv): Sequential(\n",
       "    (0): Conv2d(3, 8, kernel_size=(5, 5), stride=(2, 2), padding=(1, 1))\n",
       "    (1): BatchNorm2d(8, eps=1e-05, momentum=0.1, affine=True, track_running_stats=True)\n",
       "    (2): GELU(approximate='none')\n",
       "    (3): AvgPool2d(kernel_size=2, stride=1, padding=0)\n",
       "    (4): Dropout2d(p=0.05, inplace=False)\n",
       "    (5): Conv2d(8, 32, kernel_size=(6, 6), stride=(1, 1), padding=(1, 1))\n",
       "    (6): BatchNorm2d(32, eps=1e-05, momentum=0.1, affine=True, track_running_stats=True)\n",
       "    (7): GELU(approximate='none')\n",
       "    (8): AvgPool2d(kernel_size=2, stride=1, padding=0)\n",
       "    (9): Dropout2d(p=0.25, inplace=False)\n",
       "    (10): Conv2d(32, 4, kernel_size=(3, 3), stride=(1, 1), padding=(2, 2))\n",
       "    (11): LeakyReLU(negative_slope=0.01)\n",
       "    (12): Dropout2d(p=0.15, inplace=False)\n",
       "  )\n",
       "  (transition): AdaptiveMaxPool2d(output_size=(1, 1))\n",
       "  (linear): Sequential(\n",
       "    (0): Linear(in_features=4, out_features=256, bias=True)\n",
       "    (1): Tanh()\n",
       "    (2): Linear(in_features=256, out_features=64, bias=True)\n",
       "    (3): LayerNorm((64,), eps=1e-05, elementwise_affine=True)\n",
       "    (4): Tanh()\n",
       "    (5): Dropout(p=0.15, inplace=False)\n",
       "    (6): Linear(in_features=64, out_features=10, bias=True)\n",
       "  )\n",
       ")"
      ]
     },
     "execution_count": 47,
     "metadata": {},
     "output_type": "execute_result"
    }
   ],
   "source": [
    "model"
   ]
  },
  {
   "cell_type": "code",
   "execution_count": 17,
   "id": "c4c8d9e0",
   "metadata": {},
   "outputs": [
    {
     "name": "stdout",
     "output_type": "stream",
     "text": [
      "Trainable parameters: 650.306\n"
     ]
    }
   ],
   "source": [
    "def count_params(model: torch.nn.Module) -> int:\n",
    "    return sum(p.numel() for p in model.parameters() if p.requires_grad)\n",
    "\n",
    "# Example usage:\n",
    "num_params = count_params(model) / 1_000\n",
    "print(f\"Trainable parameters: {num_params}\")"
   ]
  },
  {
   "cell_type": "code",
   "execution_count": 19,
   "id": "357188ec",
   "metadata": {},
   "outputs": [
    {
     "name": "stdout",
     "output_type": "stream",
     "text": [
      "Model size: 2.48 MB\n"
     ]
    }
   ],
   "source": [
    "def get_model_size_mb(model: torch.nn.Module) -> float:\n",
    "    param_size = 0\n",
    "    for param in model.parameters():\n",
    "        param_size += param.numel() * param.element_size()  # bytes\n",
    "\n",
    "    buffer_size = 0\n",
    "    for buffer in model.buffers():\n",
    "        buffer_size += buffer.numel() * buffer.element_size()\n",
    "\n",
    "    size_all = param_size + buffer_size  # total bytes\n",
    "    size_mb = size_all / (1024 ** 2)  # convert bytes to MB\n",
    "    return size_mb\n",
    "\n",
    "# Usage:\n",
    "model_size = get_model_size_mb(model)\n",
    "print(f\"Model size: {model_size:.2f} MB\")"
   ]
  }
 ],
 "metadata": {
  "kernelspec": {
   "display_name": "open-nas",
   "language": "python",
   "name": "python3"
  },
  "language_info": {
   "codemirror_mode": {
    "name": "ipython",
    "version": 3
   },
   "file_extension": ".py",
   "mimetype": "text/x-python",
   "name": "python",
   "nbconvert_exporter": "python",
   "pygments_lexer": "ipython3",
   "version": "3.12.11"
  }
 },
 "nbformat": 4,
 "nbformat_minor": 5
}
